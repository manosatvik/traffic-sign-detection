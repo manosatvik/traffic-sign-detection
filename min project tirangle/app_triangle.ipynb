{
 "cells": [
  {
   "cell_type": "code",
   "execution_count": 1,
   "metadata": {},
   "outputs": [
    {
     "name": "stderr",
     "output_type": "stream",
     "text": [
      "Using TensorFlow backend.\n"
     ]
    }
   ],
   "source": [
    "from flask import Flask, render_template, request\n",
    "from werkzeug.utils import secure_filename\n",
    "from keras.models import load_model\n",
    "import tensorflow as tf\n",
    "import numpy as np\n",
    "import cv2\n",
    "import os"
   ]
  },
  {
   "cell_type": "code",
   "execution_count": 2,
   "metadata": {},
   "outputs": [],
   "source": [
    "model = load_model('triangle_model.h5')\n",
    "model.compile(optimizer=\"adam\", loss='categorical_crossentropy', metrics=['accuracy'])\n",
    "graph = tf.get_default_graph()"
   ]
  },
  {
   "cell_type": "code",
   "execution_count": null,
   "metadata": {},
   "outputs": [
    {
     "name": "stdout",
     "output_type": "stream",
     "text": [
      " * Serving Flask app \"__main__\" (lazy loading)\n",
      " * Environment: production\n",
      "   WARNING: This is a development server. Do not use it in a production deployment.\n",
      "   Use a production WSGI server instead.\n",
      " * Debug mode: off\n"
     ]
    },
    {
     "name": "stderr",
     "output_type": "stream",
     "text": [
      " * Running on http://localhost:2222/ (Press CTRL+C to quit)\n",
      "127.0.0.1 - - [24/Oct/2019 14:41:38] \"\u001b[37mGET / HTTP/1.1\u001b[0m\" 200 -\n",
      "127.0.0.1 - - [24/Oct/2019 14:41:39] \"\u001b[33mGET /favicon.ico HTTP/1.1\u001b[0m\" 404 -\n"
     ]
    },
    {
     "name": "stdout",
     "output_type": "stream",
     "text": [
      "00427.png\n",
      "Hello world\n",
      "00427.png\n",
      "(36, 36, 3)\n"
     ]
    },
    {
     "name": "stderr",
     "output_type": "stream",
     "text": [
      "127.0.0.1 - - [24/Oct/2019 14:42:26] \"\u001b[37mPOST /uploader HTTP/1.1\u001b[0m\" 200 -\n"
     ]
    },
    {
     "name": "stdout",
     "output_type": "stream",
     "text": [
      "[3]\n",
      "20\n"
     ]
    },
    {
     "name": "stderr",
     "output_type": "stream",
     "text": [
      "127.0.0.1 - - [24/Oct/2019 14:42:27] \"\u001b[37mGET /static/uploads/00427.png HTTP/1.1\u001b[0m\" 200 -\n"
     ]
    },
    {
     "name": "stdout",
     "output_type": "stream",
     "text": [
      "00153.png\n",
      "Hello world\n",
      "00153.png\n",
      "(131, 145, 3)\n"
     ]
    },
    {
     "name": "stderr",
     "output_type": "stream",
     "text": [
      "127.0.0.1 - - [24/Oct/2019 15:09:00] \"\u001b[37mPOST /uploader HTTP/1.1\u001b[0m\" 200 -\n",
      "127.0.0.1 - - [24/Oct/2019 15:09:00] \"\u001b[37mGET /static/uploads/00153.png HTTP/1.1\u001b[0m\" 200 -\n"
     ]
    },
    {
     "name": "stdout",
     "output_type": "stream",
     "text": [
      "[8]\n",
      "25\n"
     ]
    },
    {
     "name": "stderr",
     "output_type": "stream",
     "text": [
      "127.0.0.1 - - [24/Oct/2019 15:09:14] \"\u001b[37mPOST /uploader HTTP/1.1\u001b[0m\" 200 -\n"
     ]
    },
    {
     "name": "stdout",
     "output_type": "stream",
     "text": [
      "00427.png\n",
      "Hello world\n",
      "00427.png\n",
      "(36, 36, 3)\n",
      "[3]\n",
      "20\n"
     ]
    }
   ],
   "source": [
    "app = Flask(__name__)\n",
    "uploads_folder = 'C:/Users/manosatvik/Desktop/min project tirangle/static/uploads'\n",
    "app.config['UPLOAD_FOLDER'] = uploads_folder\n",
    "@app.route('/')\n",
    "\n",
    "def helloIndex():\n",
    "   return render_template('upload.html')\n",
    "\n",
    "@app.route('/uploader', methods = ['GET', 'POST'])\n",
    "\n",
    "def upload_file():\n",
    "   if request.method == 'POST':\n",
    "      f = request.files['file'] \n",
    "      print(f.filename)\n",
    "      f.save(os.path.join(uploads_folder,secure_filename(f.filename)))\n",
    "      print('Hello world')\n",
    "      #f.save(secure_filename(f.filename))\n",
    "      #testing_file = f.filename\n",
    "      model = get_model(f.filename)\n",
    "      mypath = f.filename\n",
    "      print(model)\n",
    "      path =  str(model)+'.png'\n",
    "      \n",
    "      #full_filename = os.path.join('00001.jpg')\n",
    "      #print(full_filename)\n",
    "      return render_template('result.html', path=path, mypath=mypath)\n",
    "      \n",
    "def get_model(fname):\n",
    "    print(fname)\n",
    "    cr = {0:11,1:18,2:19,3:20,4:21,5:22,6:23,7:24,8:25,9:26,10:27,11:28,12:29,13:30,14:31}\n",
    "    img = cv2.imread('C:/Users/manosatvik/Desktop/min project tirangle/static/uploads/'+str(fname))\n",
    "    print(img.shape)\n",
    "    img = cv2.resize(img,(80,80))\n",
    "    #cv2.imshow('img',img)\n",
    "    #cv2.waitKey(0)\n",
    "    #cv2.destroyAllWindows()\n",
    "    img = np.reshape(img,[1,80,80,3])\n",
    "    with graph.as_default():\n",
    "        classes = model.predict_classes(img)\n",
    "        print(classes)\n",
    "        return (cr[classes[0]])\n",
    "\n",
    "app.run('localhost', port= 2222)"
   ]
  }
 ],
 "metadata": {
  "kernelspec": {
   "display_name": "Python 3",
   "language": "python",
   "name": "python3"
  },
  "language_info": {
   "codemirror_mode": {
    "name": "ipython",
    "version": 3
   },
   "file_extension": ".py",
   "mimetype": "text/x-python",
   "name": "python",
   "nbconvert_exporter": "python",
   "pygments_lexer": "ipython3",
   "version": "3.6.6"
  }
 },
 "nbformat": 4,
 "nbformat_minor": 2
}
